{
  "nbformat": 4,
  "nbformat_minor": 0,
  "metadata": {
    "colab": {
      "name": "Multiple Insurance.ipynb",
      "provenance": [],
      "toc_visible": true,
      "authorship_tag": "ABX9TyNOwU3h/GBzhAZt9zNrakZ0",
      "include_colab_link": true
    },
    "kernelspec": {
      "name": "python3",
      "display_name": "Python 3"
    },
    "language_info": {
      "name": "python"
    }
  },
  "cells": [
    {
      "cell_type": "markdown",
      "metadata": {
        "id": "view-in-github",
        "colab_type": "text"
      },
      "source": [
        "<a href=\"https://colab.research.google.com/github/Rafiqahh/APM_KLP10/blob/main/Multiple_Insurance.ipynb\" target=\"_parent\"><img src=\"https://colab.research.google.com/assets/colab-badge.svg\" alt=\"Open In Colab\"/></a>"
      ]
    },
    {
      "cell_type": "code",
      "execution_count": 9,
      "metadata": {
        "id": "YbTMyNIgc4yl",
        "colab": {
          "base_uri": "https://localhost:8080/",
          "height": 206
        },
        "outputId": "2be30a49-db37-4f4d-8b7c-6cde6cad6545"
      },
      "outputs": [
        {
          "output_type": "execute_result",
          "data": {
            "text/html": [
              "\n",
              "  <div id=\"df-43cdfbd9-dde7-43d4-939d-111477033e24\">\n",
              "    <div class=\"colab-df-container\">\n",
              "      <div>\n",
              "<style scoped>\n",
              "    .dataframe tbody tr th:only-of-type {\n",
              "        vertical-align: middle;\n",
              "    }\n",
              "\n",
              "    .dataframe tbody tr th {\n",
              "        vertical-align: top;\n",
              "    }\n",
              "\n",
              "    .dataframe thead th {\n",
              "        text-align: right;\n",
              "    }\n",
              "</style>\n",
              "<table border=\"1\" class=\"dataframe\">\n",
              "  <thead>\n",
              "    <tr style=\"text-align: right;\">\n",
              "      <th></th>\n",
              "      <th>age</th>\n",
              "      <th>sex</th>\n",
              "      <th>bmi</th>\n",
              "      <th>children</th>\n",
              "      <th>smoker</th>\n",
              "      <th>region</th>\n",
              "      <th>charges</th>\n",
              "    </tr>\n",
              "  </thead>\n",
              "  <tbody>\n",
              "    <tr>\n",
              "      <th>0</th>\n",
              "      <td>19</td>\n",
              "      <td>female</td>\n",
              "      <td>27.900</td>\n",
              "      <td>0</td>\n",
              "      <td>yes</td>\n",
              "      <td>southwest</td>\n",
              "      <td>16884.92400</td>\n",
              "    </tr>\n",
              "    <tr>\n",
              "      <th>1</th>\n",
              "      <td>18</td>\n",
              "      <td>male</td>\n",
              "      <td>33.770</td>\n",
              "      <td>1</td>\n",
              "      <td>no</td>\n",
              "      <td>southeast</td>\n",
              "      <td>1725.55230</td>\n",
              "    </tr>\n",
              "    <tr>\n",
              "      <th>2</th>\n",
              "      <td>28</td>\n",
              "      <td>male</td>\n",
              "      <td>33.000</td>\n",
              "      <td>3</td>\n",
              "      <td>no</td>\n",
              "      <td>southeast</td>\n",
              "      <td>4449.46200</td>\n",
              "    </tr>\n",
              "    <tr>\n",
              "      <th>3</th>\n",
              "      <td>33</td>\n",
              "      <td>male</td>\n",
              "      <td>22.705</td>\n",
              "      <td>0</td>\n",
              "      <td>no</td>\n",
              "      <td>northwest</td>\n",
              "      <td>21984.47061</td>\n",
              "    </tr>\n",
              "    <tr>\n",
              "      <th>4</th>\n",
              "      <td>32</td>\n",
              "      <td>male</td>\n",
              "      <td>28.880</td>\n",
              "      <td>0</td>\n",
              "      <td>no</td>\n",
              "      <td>northwest</td>\n",
              "      <td>3866.85520</td>\n",
              "    </tr>\n",
              "  </tbody>\n",
              "</table>\n",
              "</div>\n",
              "      <button class=\"colab-df-convert\" onclick=\"convertToInteractive('df-43cdfbd9-dde7-43d4-939d-111477033e24')\"\n",
              "              title=\"Convert this dataframe to an interactive table.\"\n",
              "              style=\"display:none;\">\n",
              "        \n",
              "  <svg xmlns=\"http://www.w3.org/2000/svg\" height=\"24px\"viewBox=\"0 0 24 24\"\n",
              "       width=\"24px\">\n",
              "    <path d=\"M0 0h24v24H0V0z\" fill=\"none\"/>\n",
              "    <path d=\"M18.56 5.44l.94 2.06.94-2.06 2.06-.94-2.06-.94-.94-2.06-.94 2.06-2.06.94zm-11 1L8.5 8.5l.94-2.06 2.06-.94-2.06-.94L8.5 2.5l-.94 2.06-2.06.94zm10 10l.94 2.06.94-2.06 2.06-.94-2.06-.94-.94-2.06-.94 2.06-2.06.94z\"/><path d=\"M17.41 7.96l-1.37-1.37c-.4-.4-.92-.59-1.43-.59-.52 0-1.04.2-1.43.59L10.3 9.45l-7.72 7.72c-.78.78-.78 2.05 0 2.83L4 21.41c.39.39.9.59 1.41.59.51 0 1.02-.2 1.41-.59l7.78-7.78 2.81-2.81c.8-.78.8-2.07 0-2.86zM5.41 20L4 18.59l7.72-7.72 1.47 1.35L5.41 20z\"/>\n",
              "  </svg>\n",
              "      </button>\n",
              "      \n",
              "  <style>\n",
              "    .colab-df-container {\n",
              "      display:flex;\n",
              "      flex-wrap:wrap;\n",
              "      gap: 12px;\n",
              "    }\n",
              "\n",
              "    .colab-df-convert {\n",
              "      background-color: #E8F0FE;\n",
              "      border: none;\n",
              "      border-radius: 50%;\n",
              "      cursor: pointer;\n",
              "      display: none;\n",
              "      fill: #1967D2;\n",
              "      height: 32px;\n",
              "      padding: 0 0 0 0;\n",
              "      width: 32px;\n",
              "    }\n",
              "\n",
              "    .colab-df-convert:hover {\n",
              "      background-color: #E2EBFA;\n",
              "      box-shadow: 0px 1px 2px rgba(60, 64, 67, 0.3), 0px 1px 3px 1px rgba(60, 64, 67, 0.15);\n",
              "      fill: #174EA6;\n",
              "    }\n",
              "\n",
              "    [theme=dark] .colab-df-convert {\n",
              "      background-color: #3B4455;\n",
              "      fill: #D2E3FC;\n",
              "    }\n",
              "\n",
              "    [theme=dark] .colab-df-convert:hover {\n",
              "      background-color: #434B5C;\n",
              "      box-shadow: 0px 1px 3px 1px rgba(0, 0, 0, 0.15);\n",
              "      filter: drop-shadow(0px 1px 2px rgba(0, 0, 0, 0.3));\n",
              "      fill: #FFFFFF;\n",
              "    }\n",
              "  </style>\n",
              "\n",
              "      <script>\n",
              "        const buttonEl =\n",
              "          document.querySelector('#df-43cdfbd9-dde7-43d4-939d-111477033e24 button.colab-df-convert');\n",
              "        buttonEl.style.display =\n",
              "          google.colab.kernel.accessAllowed ? 'block' : 'none';\n",
              "\n",
              "        async function convertToInteractive(key) {\n",
              "          const element = document.querySelector('#df-43cdfbd9-dde7-43d4-939d-111477033e24');\n",
              "          const dataTable =\n",
              "            await google.colab.kernel.invokeFunction('convertToInteractive',\n",
              "                                                     [key], {});\n",
              "          if (!dataTable) return;\n",
              "\n",
              "          const docLinkHtml = 'Like what you see? Visit the ' +\n",
              "            '<a target=\"_blank\" href=https://colab.research.google.com/notebooks/data_table.ipynb>data table notebook</a>'\n",
              "            + ' to learn more about interactive tables.';\n",
              "          element.innerHTML = '';\n",
              "          dataTable['output_type'] = 'display_data';\n",
              "          await google.colab.output.renderOutput(dataTable, element);\n",
              "          const docLink = document.createElement('div');\n",
              "          docLink.innerHTML = docLinkHtml;\n",
              "          element.appendChild(docLink);\n",
              "        }\n",
              "      </script>\n",
              "    </div>\n",
              "  </div>\n",
              "  "
            ],
            "text/plain": [
              "   age     sex     bmi  children smoker     region      charges\n",
              "0   19  female  27.900         0    yes  southwest  16884.92400\n",
              "1   18    male  33.770         1     no  southeast   1725.55230\n",
              "2   28    male  33.000         3     no  southeast   4449.46200\n",
              "3   33    male  22.705         0     no  northwest  21984.47061\n",
              "4   32    male  28.880         0     no  northwest   3866.85520"
            ]
          },
          "metadata": {},
          "execution_count": 9
        }
      ],
      "source": [
        "#Importing the libraries\n",
        "import pandas as pd\n",
        "import numpy as np\n",
        "import matplotlib.pyplot as plt\n",
        "import seaborn as sns\n",
        "\n",
        "#Reading the dataset\n",
        "dataset = pd.read_csv (\"insurance.csv\") \n",
        "dataset.head()\n"
      ]
    },
    {
      "cell_type": "markdown",
      "source": [
        "# New Section"
      ],
      "metadata": {
        "id": "zxT7i-W843e0"
      }
    },
    {
      "cell_type": "code",
      "source": [
        "#Setting the value for X and Y\n",
        "x = dataset[['age', 'bmi', 'children']]\n",
        "y = dataset['charges']"
      ],
      "metadata": {
        "id": "TM4GD3om5UPR"
      },
      "execution_count": 10,
      "outputs": []
    },
    {
      "cell_type": "markdown",
      "source": [
        "# New Section"
      ],
      "metadata": {
        "id": "WE9BPYc943_L"
      }
    },
    {
      "cell_type": "code",
      "source": [
        "#Splitting the dataset\n",
        "from sklearn.model_selection import train_test_split\n",
        "x_train, x_test, y_train, y_test = train_test_split(x, y, test_size = 0.3, random_state = 100)"
      ],
      "metadata": {
        "id": "41NQaQ5lBAW2"
      },
      "execution_count": 15,
      "outputs": []
    },
    {
      "cell_type": "markdown",
      "source": [
        "# New Section"
      ],
      "metadata": {
        "id": "fPAGfBqQ445F"
      }
    },
    {
      "cell_type": "code",
      "source": [
        "#Fitting the Multiple Linear Regression model\n",
        "\n",
        "from sklearn.linear_model import LinearRegression\n",
        "mlr = LinearRegression()  \n",
        "mlr.fit(x_train, y_train)"
      ],
      "metadata": {
        "colab": {
          "base_uri": "https://localhost:8080/"
        },
        "id": "1mk5sQj3B52K",
        "outputId": "829b3d8c-64be-4100-f01b-de7bfdfa4fe2"
      },
      "execution_count": 18,
      "outputs": [
        {
          "output_type": "execute_result",
          "data": {
            "text/plain": [
              "LinearRegression()"
            ]
          },
          "metadata": {},
          "execution_count": 18
        }
      ]
    },
    {
      "cell_type": "code",
      "source": [
        "#Intercept and Coefficient\n",
        "print(\"Intercept: \", mlr.intercept_)\n",
        "print(\"Coefficients:\")\n",
        "list(zip(x, mlr.coef_))"
      ],
      "metadata": {
        "colab": {
          "base_uri": "https://localhost:8080/"
        },
        "id": "O75gyCj7EJ5U",
        "outputId": "56300035-2f6c-40c9-e98b-dda8f2a56bf0"
      },
      "execution_count": 19,
      "outputs": [
        {
          "output_type": "stream",
          "name": "stdout",
          "text": [
            "Intercept:  -6524.650328761092\n",
            "Coefficients:\n"
          ]
        },
        {
          "output_type": "execute_result",
          "data": {
            "text/plain": [
              "[('age', 249.78618064456487),\n",
              " ('bmi', 303.9576039911431),\n",
              " ('children', 519.8446080286104)]"
            ]
          },
          "metadata": {},
          "execution_count": 19
        }
      ]
    },
    {
      "cell_type": "code",
      "source": [
        "#Prediction of test set\n",
        "y_pred_mlr= mlr.predict(x_test)\n",
        "\n",
        "#Predicted values\n",
        "print(\"Prediction for test set: {}\".format(y_pred_mlr))"
      ],
      "metadata": {
        "colab": {
          "base_uri": "https://localhost:8080/"
        },
        "id": "SCNeadUNEL7Q",
        "outputId": "06706f2e-3711-446a-ce7a-3a2bafa4a04e"
      },
      "execution_count": 20,
      "outputs": [
        {
          "output_type": "stream",
          "name": "stdout",
          "text": [
            "Prediction for test set: [ 9676.57340336  9867.8860551  12868.84958193  8033.57950569\n",
            "  5623.63360332 17643.66298656 19021.02882992  7585.93719558\n",
            " 10697.89641019 20378.19953174 20179.21011122 10036.40237202\n",
            " 15620.824894    9018.06729344 14415.09204881 13292.07151216\n",
            " 16459.43897473 18010.34313028 12008.41752356 22875.10820043\n",
            " 18849.08668747  8173.9409489  11212.82158556 12484.93532057\n",
            " 18400.25943852 13317.83080329 11240.10042671 20291.6487198\n",
            " 12763.59747359 18056.50438262 23273.47209149  7220.49291502\n",
            " 19907.58024803  7616.07569748 13594.81847241 16315.44536232\n",
            " 13291.45346158 13632.63301961  8707.69568819 19366.25202606\n",
            " 12827.8924106  17047.26185127 10450.78949898 13392.37752147\n",
            "  5594.75763094 10262.00093533 10393.78459579  8837.62447345\n",
            "  7096.38529986 15922.43856321 21817.00088936 12395.31971318\n",
            " 10223.97956847 12946.95087864 12176.34124732 18864.90261825\n",
            " 18206.73135751 12210.44628212 13119.02177407 17244.1905384\n",
            "  8559.03942563  8210.95680675 10797.01748067 14927.28655442\n",
            " 19071.207054    7767.71965029  5970.14527187 13315.43522072\n",
            " 16651.34398163 18258.99674335 14576.39567511  8966.23980488\n",
            " 15466.78559661  8996.60962239 15736.32878352  5710.26152046\n",
            " 16048.24563421 14881.92422943 18086.90014302 14086.9720469\n",
            "  8095.53002244 13717.66404353 12255.34428146  9450.30514169\n",
            " 11674.83714362 18325.94475943 17246.89526526 14468.69658389\n",
            "  9254.92242347 14318.5464762   8194.883132   14011.36938087\n",
            " 11700.87963615  6610.51697364 12073.25340594 12990.40668064\n",
            " 17607.26494129 15078.0025889  11378.65790956  7525.42887618\n",
            " 10454.75554641  9913.1193891  16380.43521711 12460.79886555\n",
            " 11862.90437061 18782.91117037  9791.5363475  11348.67482701\n",
            " 21904.06670377  9199.90091046 17148.49505545 10236.85969477\n",
            " 16436.74520252 16254.37064013 13085.09737804 18769.82590935\n",
            "  8221.05437752 21765.86904205 16248.0587255  12584.72632741\n",
            " 11689.33914457 12431.27938518 19529.30724147 16374.61404701\n",
            " 16570.82139746 15350.99778223 17299.98479786 11058.47218241\n",
            "  9117.9608629  14799.28951157  8902.71761433 14023.86253421\n",
            " 10661.31844961 18490.41671476  8601.98022516 10201.62136892\n",
            " 15514.36214193 11698.63851146 10946.34295611 13576.71000716\n",
            " 11486.69209744  9490.28347037  8799.01172238 14563.92822667\n",
            " 11706.62370105 16829.18536085 16286.38923664 10046.1650936\n",
            " 16552.12010105 15056.93165282 16002.21409633  7871.70922912\n",
            " 10431.34139901 13738.55457884 15259.88832971 14340.26164376\n",
            " 13231.35709656 14763.22655347 16071.48035178  8882.36826239\n",
            " 19865.74704415  7923.61382288 13498.2217375  18372.95441648\n",
            " 10239.61606941 18814.23461111  7132.78310713 15236.83352743\n",
            " 20174.80519557 19131.43241    20265.81232346  8210.95680675\n",
            " 10632.36537203  7416.00462422 14293.53422663 10849.02536052\n",
            "  8730.72430957 14130.94285139 19618.97473465  6836.42444324\n",
            " 14504.75954198  7149.13998328 11244.53103778 19773.96716979\n",
            "  9349.99913237  7057.33465151 10098.73962373 17705.7422563\n",
            " 11985.28585408 19481.62764806  4513.2095061  14272.33502303\n",
            "  7981.36576764 14061.67659594 11683.56889878 12197.02544844\n",
            " 18225.50952112  4266.61711191 14088.98161798 15720.48714785\n",
            "  9211.72436544 12389.93547888  8376.17580365 13852.12648795\n",
            " 21237.39476549 18505.74286248 13509.96832527 16683.69790332\n",
            "  6339.65985691 12190.25114058 15590.5321817  10370.13768583\n",
            "  7054.50117166 17548.35423858 16307.20219076 12047.44222902\n",
            " 15988.58765194 13267.34294945  9117.29141202  6220.00855772\n",
            " 15918.60053582 20395.02024805 13972.60169592 13344.62033738\n",
            " 13973.40062326 20293.91531139 13961.1649759   6622.7783259\n",
            " 18676.0881117  16182.32231462 14770.49064439 14986.40335332\n",
            " 17685.47000956 13746.87437961  8465.17359846 15529.12261032\n",
            " 10533.39899743 12805.48160179 18329.49933795 11743.76854989\n",
            " 12457.73383209  6356.8154224   7909.42024275 16701.93512156\n",
            " 10612.71117587 12443.82393883  7519.35020957 20685.81476234\n",
            " 14704.16019341 11107.9040884  10037.48426276 10846.75853094\n",
            "  9605.68431179 15781.22678286 19169.81312199  5893.71797359\n",
            " 10246.80305513 15153.50316831 11175.29048723 12467.57365888\n",
            "  6191.13258534 14685.15047619 13037.57127157 10772.23751765\n",
            "  4555.22262529 18606.66764584 15184.72283748 15951.49492688\n",
            "  7360.62255714 17083.55612498 19627.42424988 14157.47488898\n",
            " 15781.48452684 18127.29042609 16520.33354362 16539.11194523\n",
            "  8756.92101251 11129.98004802  9317.79989708 15886.9420079\n",
            "  9608.36309576 16814.76022711  9338.53646946 14331.32355441\n",
            "  8929.91958828  7678.25825331 14471.96819901  7555.49027287\n",
            "  8336.45521894 16339.89072363 16781.78824537 10531.57006513\n",
            " 11214.62433697 15552.97537848 10168.93307404 18905.5249404\n",
            " 10208.83405952 16820.60757811 14789.57795229 15832.77058456\n",
            "  9606.99800362  7419.45639264 16897.13792448  9021.51882387\n",
            " 16554.41263553 14631.9319526  12709.01409586 14106.26617447\n",
            " 17812.71952538  6807.62557607 18560.43001177 14143.873902\n",
            " 18895.42736963  8981.38628477 18197.97293599 13397.2979156\n",
            " 16152.67311031 13407.54969678 20877.23094765 11563.01658561\n",
            "  5093.76852973 19759.74885571 12421.41313002 15794.23493868\n",
            " 17839.35461106 18551.20823556  8400.0285718  10506.68680654\n",
            " 12051.64152448 16836.55249987 15222.40863169  7373.52766486\n",
            "  7346.0943753  17131.05628856 16962.15396015 10639.55235775\n",
            "  9913.53085801 15024.60415001 19956.57425674 12417.00869984\n",
            "  9621.70633876 18202.60989073  8311.46891226 13709.31757639\n",
            " 16774.13814296  7433.70113509  9982.64290305  9767.50294058\n",
            " 18833.47612942 12069.15739657  9709.82810102 17280.81966128\n",
            " 12558.47797668  9825.9245837  12607.5490906  12342.0493038\n",
            " 12275.539423   12887.73103164  6944.87033803  8221.49227479\n",
            "  6716.82454436 20255.27685542  8213.27479864 11136.36834439\n",
            " 18279.96438386 19270.96922097 14836.8201339  11267.97185155\n",
            " 14035.58317909 13741.85166086 10005.00206407  7312.32418968\n",
            "  7509.32974401  7861.35391437 17489.1855539  10798.35711539\n",
            "  9573.56266718 11726.74173739 12549.33306767 19319.13908291\n",
            "  9079.94070498  5024.57937948 14353.11558917 14342.55441623\n",
            " 13934.96802549  9236.19518417 12666.17682991 20245.54007672\n",
            "  8972.96271243 21038.74043215  4529.56638225 10214.9132116\n",
            " 16305.09029505 14748.69837163 15595.9932832  13136.10023436\n",
            " 15146.03249573  9190.65319136 11403.41290063 10212.31104737\n",
            " 12854.3214001  12841.46745468]\n"
          ]
        }
      ]
    },
    {
      "cell_type": "code",
      "source": [
        "#Actual value and the predicted value\n",
        "mlr_diff = pd.DataFrame({'Actual value': y_test, 'Predicted value': y_pred_mlr})\n",
        "mlr_diff.head()"
      ],
      "metadata": {
        "colab": {
          "base_uri": "https://localhost:8080/",
          "height": 206
        },
        "id": "AFUssoDWERZi",
        "outputId": "d8fe191d-2153-4a14-ce82-3ea28c8abc66"
      },
      "execution_count": 22,
      "outputs": [
        {
          "output_type": "execute_result",
          "data": {
            "text/html": [
              "\n",
              "  <div id=\"df-836f338f-6875-4617-83cc-7ad3a1594cab\">\n",
              "    <div class=\"colab-df-container\">\n",
              "      <div>\n",
              "<style scoped>\n",
              "    .dataframe tbody tr th:only-of-type {\n",
              "        vertical-align: middle;\n",
              "    }\n",
              "\n",
              "    .dataframe tbody tr th {\n",
              "        vertical-align: top;\n",
              "    }\n",
              "\n",
              "    .dataframe thead th {\n",
              "        text-align: right;\n",
              "    }\n",
              "</style>\n",
              "<table border=\"1\" class=\"dataframe\">\n",
              "  <thead>\n",
              "    <tr style=\"text-align: right;\">\n",
              "      <th></th>\n",
              "      <th>Actual value</th>\n",
              "      <th>Predicted value</th>\n",
              "    </tr>\n",
              "  </thead>\n",
              "  <tbody>\n",
              "    <tr>\n",
              "      <th>12</th>\n",
              "      <td>1826.84300</td>\n",
              "      <td>9676.573403</td>\n",
              "    </tr>\n",
              "    <tr>\n",
              "      <th>306</th>\n",
              "      <td>20177.67113</td>\n",
              "      <td>9867.886055</td>\n",
              "    </tr>\n",
              "    <tr>\n",
              "      <th>318</th>\n",
              "      <td>7421.19455</td>\n",
              "      <td>12868.849582</td>\n",
              "    </tr>\n",
              "    <tr>\n",
              "      <th>815</th>\n",
              "      <td>1877.92940</td>\n",
              "      <td>8033.579506</td>\n",
              "    </tr>\n",
              "    <tr>\n",
              "      <th>157</th>\n",
              "      <td>15518.18025</td>\n",
              "      <td>5623.633603</td>\n",
              "    </tr>\n",
              "  </tbody>\n",
              "</table>\n",
              "</div>\n",
              "      <button class=\"colab-df-convert\" onclick=\"convertToInteractive('df-836f338f-6875-4617-83cc-7ad3a1594cab')\"\n",
              "              title=\"Convert this dataframe to an interactive table.\"\n",
              "              style=\"display:none;\">\n",
              "        \n",
              "  <svg xmlns=\"http://www.w3.org/2000/svg\" height=\"24px\"viewBox=\"0 0 24 24\"\n",
              "       width=\"24px\">\n",
              "    <path d=\"M0 0h24v24H0V0z\" fill=\"none\"/>\n",
              "    <path d=\"M18.56 5.44l.94 2.06.94-2.06 2.06-.94-2.06-.94-.94-2.06-.94 2.06-2.06.94zm-11 1L8.5 8.5l.94-2.06 2.06-.94-2.06-.94L8.5 2.5l-.94 2.06-2.06.94zm10 10l.94 2.06.94-2.06 2.06-.94-2.06-.94-.94-2.06-.94 2.06-2.06.94z\"/><path d=\"M17.41 7.96l-1.37-1.37c-.4-.4-.92-.59-1.43-.59-.52 0-1.04.2-1.43.59L10.3 9.45l-7.72 7.72c-.78.78-.78 2.05 0 2.83L4 21.41c.39.39.9.59 1.41.59.51 0 1.02-.2 1.41-.59l7.78-7.78 2.81-2.81c.8-.78.8-2.07 0-2.86zM5.41 20L4 18.59l7.72-7.72 1.47 1.35L5.41 20z\"/>\n",
              "  </svg>\n",
              "      </button>\n",
              "      \n",
              "  <style>\n",
              "    .colab-df-container {\n",
              "      display:flex;\n",
              "      flex-wrap:wrap;\n",
              "      gap: 12px;\n",
              "    }\n",
              "\n",
              "    .colab-df-convert {\n",
              "      background-color: #E8F0FE;\n",
              "      border: none;\n",
              "      border-radius: 50%;\n",
              "      cursor: pointer;\n",
              "      display: none;\n",
              "      fill: #1967D2;\n",
              "      height: 32px;\n",
              "      padding: 0 0 0 0;\n",
              "      width: 32px;\n",
              "    }\n",
              "\n",
              "    .colab-df-convert:hover {\n",
              "      background-color: #E2EBFA;\n",
              "      box-shadow: 0px 1px 2px rgba(60, 64, 67, 0.3), 0px 1px 3px 1px rgba(60, 64, 67, 0.15);\n",
              "      fill: #174EA6;\n",
              "    }\n",
              "\n",
              "    [theme=dark] .colab-df-convert {\n",
              "      background-color: #3B4455;\n",
              "      fill: #D2E3FC;\n",
              "    }\n",
              "\n",
              "    [theme=dark] .colab-df-convert:hover {\n",
              "      background-color: #434B5C;\n",
              "      box-shadow: 0px 1px 3px 1px rgba(0, 0, 0, 0.15);\n",
              "      filter: drop-shadow(0px 1px 2px rgba(0, 0, 0, 0.3));\n",
              "      fill: #FFFFFF;\n",
              "    }\n",
              "  </style>\n",
              "\n",
              "      <script>\n",
              "        const buttonEl =\n",
              "          document.querySelector('#df-836f338f-6875-4617-83cc-7ad3a1594cab button.colab-df-convert');\n",
              "        buttonEl.style.display =\n",
              "          google.colab.kernel.accessAllowed ? 'block' : 'none';\n",
              "\n",
              "        async function convertToInteractive(key) {\n",
              "          const element = document.querySelector('#df-836f338f-6875-4617-83cc-7ad3a1594cab');\n",
              "          const dataTable =\n",
              "            await google.colab.kernel.invokeFunction('convertToInteractive',\n",
              "                                                     [key], {});\n",
              "          if (!dataTable) return;\n",
              "\n",
              "          const docLinkHtml = 'Like what you see? Visit the ' +\n",
              "            '<a target=\"_blank\" href=https://colab.research.google.com/notebooks/data_table.ipynb>data table notebook</a>'\n",
              "            + ' to learn more about interactive tables.';\n",
              "          element.innerHTML = '';\n",
              "          dataTable['output_type'] = 'display_data';\n",
              "          await google.colab.output.renderOutput(dataTable, element);\n",
              "          const docLink = document.createElement('div');\n",
              "          docLink.innerHTML = docLinkHtml;\n",
              "          element.appendChild(docLink);\n",
              "        }\n",
              "      </script>\n",
              "    </div>\n",
              "  </div>\n",
              "  "
            ],
            "text/plain": [
              "     Actual value  Predicted value\n",
              "12     1826.84300      9676.573403\n",
              "306   20177.67113      9867.886055\n",
              "318    7421.19455     12868.849582\n",
              "815    1877.92940      8033.579506\n",
              "157   15518.18025      5623.633603"
            ]
          },
          "metadata": {},
          "execution_count": 22
        }
      ]
    },
    {
      "cell_type": "code",
      "source": [
        "#Model Evaluation\n",
        "from sklearn import metrics\n",
        "meanAbErr = metrics.mean_absolute_error(y_test, y_pred_mlr)\n",
        "meanSqErr = metrics.mean_squared_error(y_test, y_pred_mlr)\n",
        "rootMeanSqErr = np.sqrt(metrics.mean_squared_error(y_test, y_pred_mlr))\n",
        "print('R squared: {:.2f}'.format(mlr.score(x,y)*100))\n",
        "print('Mean Absolute Error:', meanAbErr)\n",
        "print('Mean Square Error:', meanSqErr)\n",
        "print('Root Mean Square Error:', rootMeanSqErr)"
      ],
      "metadata": {
        "colab": {
          "base_uri": "https://localhost:8080/"
        },
        "id": "Pgb5ItxXE3Ba",
        "outputId": "c873a78c-a157-4677-c340-6880c1bbad87"
      },
      "execution_count": 23,
      "outputs": [
        {
          "output_type": "stream",
          "name": "stdout",
          "text": [
            "R squared: 11.97\n",
            "Mean Absolute Error: 8899.594165897634\n",
            "Mean Square Error: 129209552.77458598\n",
            "Root Mean Square Error: 11367.037994771812\n"
          ]
        }
      ]
    },
    {
      "cell_type": "code",
      "source": [
        "plt.figure(figsize=(15,10))\n",
        "plt.scatter(y_test,y_pred_mlr)\n",
        "plt.xlabel('Actual')\n",
        "plt.ylabel('Predicted')\n",
        "plt.title('Actual vs. Predicted')"
      ],
      "metadata": {
        "colab": {
          "base_uri": "https://localhost:8080/",
          "height": 604
        },
        "id": "REgtPWWWG-K7",
        "outputId": "d56368de-d20d-4da1-b4cc-f3daad3203de"
      },
      "execution_count": 32,
      "outputs": [
        {
          "output_type": "execute_result",
          "data": {
            "text/plain": [
              "Text(0.5, 1.0, 'Actual vs. Predicted')"
            ]
          },
          "metadata": {},
          "execution_count": 32
        },
        {
          "output_type": "display_data",
          "data": {
            "image/png": "[encoded data removed]",
            "text/plain": [
              "<Figure size 1080x720 with 1 Axes>"
            ]
          },
          "metadata": {
            "needs_background": "light"
          }
        }
      ]
    }
  ]
}