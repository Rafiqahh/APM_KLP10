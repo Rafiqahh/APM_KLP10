{
  "nbformat": 4,
  "nbformat_minor": 0,
  "metadata": {
    "colab": {
      "name": "1911523022_Rafiqah_GaussianNaiveBayes.ipynb",
      "provenance": [],
      "include_colab_link": true
    },
    "kernelspec": {
      "name": "python3",
      "display_name": "Python 3"
    },
    "language_info": {
      "name": "python"
    }
  },
  "cells": [
    {
      "cell_type": "markdown",
      "metadata": {
        "id": "view-in-github",
        "colab_type": "text"
      },
      "source": [
        "<a href=\"https://colab.research.google.com/github/Rafiqahh/APM_KLP10/blob/main/1911523022_Rafiqah_GaussianNaiveBayes.ipynb\" target=\"_parent\"><img src=\"https://colab.research.google.com/assets/colab-badge.svg\" alt=\"Open In Colab\"/></a>"
      ]
    },
    {
      "cell_type": "code",
      "execution_count": null,
      "metadata": {
        "id": "MCuY9S7uO1R5"
      },
      "outputs": [],
      "source": [
        "#Mengimport Library\n",
        "import pandas as pd\n",
        "import numpy as np\n",
        "import matplotlib.pyplot as plt\n",
        "import seaborn as sns\n",
        "from sklearn import svm\n",
        "from sklearn.metrics import classification_report, confusion_matrix"
      ]
    },
    {
      "cell_type": "code",
      "source": [
        "#Mengimport dan Menampilkan Dataset\n",
        "dataset = pd.read_csv('data_bayi_jawatengah.csv')\n",
        "dataset"
      ],
      "metadata": {
        "colab": {
          "base_uri": "https://localhost:8080/",
          "height": 424
        },
        "id": "dE82XP24Ptsp",
        "outputId": "74832cf7-720b-4100-e93e-80a6784ad951"
      },
      "execution_count": null,
      "outputs": [
        {
          "output_type": "execute_result",
          "data": {
            "text/plain": [
              "    tahun                 wilayah  jumlah_bayi_lahir  \\\n",
              "0    2020       Kabupaten Cilacap              28303   \n",
              "1    2020      Kabupaten Banyumas              26473   \n",
              "2    2020   Kabupaten Purbalingga              14808   \n",
              "3    2020  Kabupaten Banjarnegara              15330   \n",
              "4    2020       Kabupaten Kebumen              19548   \n",
              "..    ...                     ...                ...   \n",
              "65   2020          Kota Surakarta               9634   \n",
              "66   2020           Kota Salatiga               2469   \n",
              "67   2020           Kota Semarang              23825   \n",
              "68   2020         Kota Pekalongan               5905   \n",
              "69   2020              Kota Tegal               3958   \n",
              "\n",
              "                kondisi_bayi  jumlah  \n",
              "0   berat_bayi_lahir_rendah     1052  \n",
              "1   berat_bayi_lahir_rendah     1724  \n",
              "2   berat_bayi_lahir_rendah      767  \n",
              "3   berat_bayi_lahir_rendah     1033  \n",
              "4   berat_bayi_lahir_rendah     1003  \n",
              "..                       ...     ...  \n",
              "65               gizi_kurang     243  \n",
              "66               gizi_kurang      81  \n",
              "67               gizi_kurang     920  \n",
              "68               gizi_kurang     989  \n",
              "69               gizi_kurang    1051  \n",
              "\n",
              "[70 rows x 5 columns]"
            ],
            "text/html": [
              "\n",
              "  <div id=\"df-e2248d41-aa57-474c-aca8-e87fff190ab5\">\n",
              "    <div class=\"colab-df-container\">\n",
              "      <div>\n",
              "<style scoped>\n",
              "    .dataframe tbody tr th:only-of-type {\n",
              "        vertical-align: middle;\n",
              "    }\n",
              "\n",
              "    .dataframe tbody tr th {\n",
              "        vertical-align: top;\n",
              "    }\n",
              "\n",
              "    .dataframe thead th {\n",
              "        text-align: right;\n",
              "    }\n",
              "</style>\n",
              "<table border=\"1\" class=\"dataframe\">\n",
              "  <thead>\n",
              "    <tr style=\"text-align: right;\">\n",
              "      <th></th>\n",
              "      <th>tahun</th>\n",
              "      <th>wilayah</th>\n",
              "      <th>jumlah_bayi_lahir</th>\n",
              "      <th>kondisi_bayi</th>\n",
              "      <th>jumlah</th>\n",
              "    </tr>\n",
              "  </thead>\n",
              "  <tbody>\n",
              "    <tr>\n",
              "      <th>0</th>\n",
              "      <td>2020</td>\n",
              "      <td>Kabupaten Cilacap</td>\n",
              "      <td>28303</td>\n",
              "      <td>berat_bayi_lahir_rendah</td>\n",
              "      <td>1052</td>\n",
              "    </tr>\n",
              "    <tr>\n",
              "      <th>1</th>\n",
              "      <td>2020</td>\n",
              "      <td>Kabupaten Banyumas</td>\n",
              "      <td>26473</td>\n",
              "      <td>berat_bayi_lahir_rendah</td>\n",
              "      <td>1724</td>\n",
              "    </tr>\n",
              "    <tr>\n",
              "      <th>2</th>\n",
              "      <td>2020</td>\n",
              "      <td>Kabupaten Purbalingga</td>\n",
              "      <td>14808</td>\n",
              "      <td>berat_bayi_lahir_rendah</td>\n",
              "      <td>767</td>\n",
              "    </tr>\n",
              "    <tr>\n",
              "      <th>3</th>\n",
              "      <td>2020</td>\n",
              "      <td>Kabupaten Banjarnegara</td>\n",
              "      <td>15330</td>\n",
              "      <td>berat_bayi_lahir_rendah</td>\n",
              "      <td>1033</td>\n",
              "    </tr>\n",
              "    <tr>\n",
              "      <th>4</th>\n",
              "      <td>2020</td>\n",
              "      <td>Kabupaten Kebumen</td>\n",
              "      <td>19548</td>\n",
              "      <td>berat_bayi_lahir_rendah</td>\n",
              "      <td>1003</td>\n",
              "    </tr>\n",
              "    <tr>\n",
              "      <th>...</th>\n",
              "      <td>...</td>\n",
              "      <td>...</td>\n",
              "      <td>...</td>\n",
              "      <td>...</td>\n",
              "      <td>...</td>\n",
              "    </tr>\n",
              "    <tr>\n",
              "      <th>65</th>\n",
              "      <td>2020</td>\n",
              "      <td>Kota Surakarta</td>\n",
              "      <td>9634</td>\n",
              "      <td>gizi_kurang</td>\n",
              "      <td>243</td>\n",
              "    </tr>\n",
              "    <tr>\n",
              "      <th>66</th>\n",
              "      <td>2020</td>\n",
              "      <td>Kota Salatiga</td>\n",
              "      <td>2469</td>\n",
              "      <td>gizi_kurang</td>\n",
              "      <td>81</td>\n",
              "    </tr>\n",
              "    <tr>\n",
              "      <th>67</th>\n",
              "      <td>2020</td>\n",
              "      <td>Kota Semarang</td>\n",
              "      <td>23825</td>\n",
              "      <td>gizi_kurang</td>\n",
              "      <td>920</td>\n",
              "    </tr>\n",
              "    <tr>\n",
              "      <th>68</th>\n",
              "      <td>2020</td>\n",
              "      <td>Kota Pekalongan</td>\n",
              "      <td>5905</td>\n",
              "      <td>gizi_kurang</td>\n",
              "      <td>989</td>\n",
              "    </tr>\n",
              "    <tr>\n",
              "      <th>69</th>\n",
              "      <td>2020</td>\n",
              "      <td>Kota Tegal</td>\n",
              "      <td>3958</td>\n",
              "      <td>gizi_kurang</td>\n",
              "      <td>1051</td>\n",
              "    </tr>\n",
              "  </tbody>\n",
              "</table>\n",
              "<p>70 rows × 5 columns</p>\n",
              "</div>\n",
              "      <button class=\"colab-df-convert\" onclick=\"convertToInteractive('df-e2248d41-aa57-474c-aca8-e87fff190ab5')\"\n",
              "              title=\"Convert this dataframe to an interactive table.\"\n",
              "              style=\"display:none;\">\n",
              "        \n",
              "  <svg xmlns=\"http://www.w3.org/2000/svg\" height=\"24px\"viewBox=\"0 0 24 24\"\n",
              "       width=\"24px\">\n",
              "    <path d=\"M0 0h24v24H0V0z\" fill=\"none\"/>\n",
              "    <path d=\"M18.56 5.44l.94 2.06.94-2.06 2.06-.94-2.06-.94-.94-2.06-.94 2.06-2.06.94zm-11 1L8.5 8.5l.94-2.06 2.06-.94-2.06-.94L8.5 2.5l-.94 2.06-2.06.94zm10 10l.94 2.06.94-2.06 2.06-.94-2.06-.94-.94-2.06-.94 2.06-2.06.94z\"/><path d=\"M17.41 7.96l-1.37-1.37c-.4-.4-.92-.59-1.43-.59-.52 0-1.04.2-1.43.59L10.3 9.45l-7.72 7.72c-.78.78-.78 2.05 0 2.83L4 21.41c.39.39.9.59 1.41.59.51 0 1.02-.2 1.41-.59l7.78-7.78 2.81-2.81c.8-.78.8-2.07 0-2.86zM5.41 20L4 18.59l7.72-7.72 1.47 1.35L5.41 20z\"/>\n",
              "  </svg>\n",
              "      </button>\n",
              "      \n",
              "  <style>\n",
              "    .colab-df-container {\n",
              "      display:flex;\n",
              "      flex-wrap:wrap;\n",
              "      gap: 12px;\n",
              "    }\n",
              "\n",
              "    .colab-df-convert {\n",
              "      background-color: #E8F0FE;\n",
              "      border: none;\n",
              "      border-radius: 50%;\n",
              "      cursor: pointer;\n",
              "      display: none;\n",
              "      fill: #1967D2;\n",
              "      height: 32px;\n",
              "      padding: 0 0 0 0;\n",
              "      width: 32px;\n",
              "    }\n",
              "\n",
              "    .colab-df-convert:hover {\n",
              "      background-color: #E2EBFA;\n",
              "      box-shadow: 0px 1px 2px rgba(60, 64, 67, 0.3), 0px 1px 3px 1px rgba(60, 64, 67, 0.15);\n",
              "      fill: #174EA6;\n",
              "    }\n",
              "\n",
              "    [theme=dark] .colab-df-convert {\n",
              "      background-color: #3B4455;\n",
              "      fill: #D2E3FC;\n",
              "    }\n",
              "\n",
              "    [theme=dark] .colab-df-convert:hover {\n",
              "      background-color: #434B5C;\n",
              "      box-shadow: 0px 1px 3px 1px rgba(0, 0, 0, 0.15);\n",
              "      filter: drop-shadow(0px 1px 2px rgba(0, 0, 0, 0.3));\n",
              "      fill: #FFFFFF;\n",
              "    }\n",
              "  </style>\n",
              "\n",
              "      <script>\n",
              "        const buttonEl =\n",
              "          document.querySelector('#df-e2248d41-aa57-474c-aca8-e87fff190ab5 button.colab-df-convert');\n",
              "        buttonEl.style.display =\n",
              "          google.colab.kernel.accessAllowed ? 'block' : 'none';\n",
              "\n",
              "        async function convertToInteractive(key) {\n",
              "          const element = document.querySelector('#df-e2248d41-aa57-474c-aca8-e87fff190ab5');\n",
              "          const dataTable =\n",
              "            await google.colab.kernel.invokeFunction('convertToInteractive',\n",
              "                                                     [key], {});\n",
              "          if (!dataTable) return;\n",
              "\n",
              "          const docLinkHtml = 'Like what you see? Visit the ' +\n",
              "            '<a target=\"_blank\" href=https://colab.research.google.com/notebooks/data_table.ipynb>data table notebook</a>'\n",
              "            + ' to learn more about interactive tables.';\n",
              "          element.innerHTML = '';\n",
              "          dataTable['output_type'] = 'display_data';\n",
              "          await google.colab.output.renderOutput(dataTable, element);\n",
              "          const docLink = document.createElement('div');\n",
              "          docLink.innerHTML = docLinkHtml;\n",
              "          element.appendChild(docLink);\n",
              "        }\n",
              "      </script>\n",
              "    </div>\n",
              "  </div>\n",
              "  "
            ]
          },
          "metadata": {},
          "execution_count": 3
        }
      ]
    },
    {
      "cell_type": "code",
      "source": [
        "#Memanggil fungsi info\n",
        "dataset.info()"
      ],
      "metadata": {
        "colab": {
          "base_uri": "https://localhost:8080/"
        },
        "id": "DqMqomJTP6oQ",
        "outputId": "8bbd2957-8d3f-4c35-8417-06c36c43e41c"
      },
      "execution_count": null,
      "outputs": [
        {
          "output_type": "stream",
          "name": "stdout",
          "text": [
            "<class 'pandas.core.frame.DataFrame'>\n",
            "RangeIndex: 70 entries, 0 to 69\n",
            "Data columns (total 5 columns):\n",
            " #   Column             Non-Null Count  Dtype \n",
            "---  ------             --------------  ----- \n",
            " 0   tahun              70 non-null     int64 \n",
            " 1   wilayah            70 non-null     object\n",
            " 2   jumlah_bayi_lahir  70 non-null     int64 \n",
            " 3   kondisi_bayi       70 non-null     object\n",
            " 4   jumlah             70 non-null     int64 \n",
            "dtypes: int64(3), object(2)\n",
            "memory usage: 2.9+ KB\n"
          ]
        }
      ]
    },
    {
      "cell_type": "code",
      "source": [
        "#Deklarasi Variabel Dependent dan Independent\n",
        "x = dataset[['jumlah_bayi_lahir', 'jumlah']]\n",
        "y = dataset['kondisi_bayi']"
      ],
      "metadata": {
        "id": "VHkxV3urQCyQ"
      },
      "execution_count": null,
      "outputs": []
    },
    {
      "cell_type": "code",
      "source": [
        "#Melakukan Split pada Training set and Test set\n",
        "from sklearn.model_selection import train_test_split  \n",
        "x_train, x_test, y_train, y_test = train_test_split(x, y, test_size = 0.2)"
      ],
      "metadata": {
        "id": "V89lgG1KQaeg"
      },
      "execution_count": null,
      "outputs": []
    },
    {
      "cell_type": "code",
      "source": [
        "#Import Gaussian Naive Bayes model\n",
        "from sklearn.naive_bayes import GaussianNB\n",
        "#Mengaktifkan/memanggil/membuat fungsi klasifikasi Naive bayes\n",
        "modelnb = GaussianNB()\n",
        "#Memasukkan data training pada fungsi klasifikasi naive bayes\n",
        "nbtrain = modelnb.fit(x_train, y_train)"
      ],
      "metadata": {
        "id": "3lbhQ8h2QgJB"
      },
      "execution_count": null,
      "outputs": []
    },
    {
      "cell_type": "code",
      "source": [
        "#Menentukan hasil prediksi dari x_test\n",
        "y_pred = nbtrain.predict(x_test)\n",
        "y_pred"
      ],
      "metadata": {
        "colab": {
          "base_uri": "https://localhost:8080/"
        },
        "id": "6kxQl1b_QiWg",
        "outputId": "aa82a6c9-5c2b-461a-d76c-e66de98ae55c"
      },
      "execution_count": null,
      "outputs": [
        {
          "output_type": "execute_result",
          "data": {
            "text/plain": [
              "array([0, 0, 0, 0, 0, 0, 0, 1, 1, 1, 1, 0, 1, 0])"
            ]
          },
          "metadata": {},
          "execution_count": 32
        }
      ]
    },
    {
      "cell_type": "code",
      "source": [
        "#Menentukan probabilitas hasil prediksi\n",
        "nbtrain.predict_proba(x_test)"
      ],
      "metadata": {
        "colab": {
          "base_uri": "https://localhost:8080/"
        },
        "id": "gWoJBGpnQlln",
        "outputId": "c7eac397-c3e6-4a2c-c17b-2cb97aae95f7"
      },
      "execution_count": null,
      "outputs": [
        {
          "output_type": "execute_result",
          "data": {
            "text/plain": [
              "array([[9.20656304e-01, 7.93436956e-02],\n",
              "       [8.29142358e-01, 1.70857642e-01],\n",
              "       [8.88054621e-01, 1.11945379e-01],\n",
              "       [9.12696791e-01, 8.73032091e-02],\n",
              "       [9.01137951e-01, 9.88620492e-02],\n",
              "       [6.00029730e-01, 3.99970270e-01],\n",
              "       [8.33940818e-01, 1.66059182e-01],\n",
              "       [1.63702292e-37, 1.00000000e+00],\n",
              "       [7.69700113e-06, 9.99992303e-01],\n",
              "       [1.06528865e-53, 1.00000000e+00],\n",
              "       [2.88029811e-10, 1.00000000e+00],\n",
              "       [9.19807922e-01, 8.01920778e-02],\n",
              "       [4.43108582e-05, 9.99955689e-01],\n",
              "       [7.81022348e-01, 2.18977652e-01]])"
            ]
          },
          "metadata": {},
          "execution_count": 33
        }
      ]
    },
    {
      "cell_type": "code",
      "source": [
        "#Menampilkan Confusion Matrix \n",
        "\n",
        "from sklearn.metrics import confusion_matrix\n",
        "\n",
        "cm = confusion_matrix(y_test, y_pred)\n",
        "cm"
      ],
      "metadata": {
        "colab": {
          "base_uri": "https://localhost:8080/"
        },
        "id": "Yo2tAWwiQ6BI",
        "outputId": "e34d6d8a-6123-4b43-a406-03552d42d6e5"
      },
      "execution_count": null,
      "outputs": [
        {
          "output_type": "execute_result",
          "data": {
            "text/plain": [
              "array([[6, 0],\n",
              "       [3, 5]])"
            ]
          },
          "metadata": {},
          "execution_count": 34
        }
      ]
    },
    {
      "cell_type": "code",
      "source": [
        "#Memvisualisasikan confusion matrix \n",
        "\n",
        "cm_matrix = pd.DataFrame(data=cm, columns=['Actual Positive:1', 'Actual Negative:0'], \n",
        "                                 index=['Predict Positive:1', 'Predict Negative:0'])\n",
        "\n",
        "sns.heatmap(cm_matrix, annot=True, fmt='d', cmap='YlGnBu')"
      ],
      "metadata": {
        "colab": {
          "base_uri": "https://localhost:8080/",
          "height": 286
        },
        "id": "-Rfqt5k0RGfw",
        "outputId": "22ecb51c-aa04-4a02-9c0c-ba1e4610dbc7"
      },
      "execution_count": null,
      "outputs": [
        {
          "output_type": "execute_result",
          "data": {
            "text/plain": [
              "<matplotlib.axes._subplots.AxesSubplot at 0x7fb094d8ac50>"
            ]
          },
          "metadata": {},
          "execution_count": 35
        },
        {
          "output_type": "display_data",
          "data": {
            "text/plain": [
              "<Figure size 432x288 with 2 Axes>"
            ],
            "image/png": "[encoded data removed]"
          },
          "metadata": {
            "needs_background": "light"
          }
        }
      ]
    },
    {
      "cell_type": "code",
      "source": [
        "#Menghitung nilai akurasi dari klasifikasi naive bayes \n",
        "from sklearn.metrics import classification_report\n",
        "print(classification_report(y_test,y_pred))"
      ],
      "metadata": {
        "colab": {
          "base_uri": "https://localhost:8080/"
        },
        "id": "v-mXTx7XRbOJ",
        "outputId": "85d28904-c203-443b-dd31-da0290eee90e"
      },
      "execution_count": null,
      "outputs": [
        {
          "output_type": "stream",
          "name": "stdout",
          "text": [
            "              precision    recall  f1-score   support\n",
            "\n",
            "           0       0.67      1.00      0.80         6\n",
            "           1       1.00      0.62      0.77         8\n",
            "\n",
            "    accuracy                           0.79        14\n",
            "   macro avg       0.83      0.81      0.78        14\n",
            "weighted avg       0.86      0.79      0.78        14\n",
            "\n"
          ]
        }
      ]
    },
    {
      "cell_type": "code",
      "source": [
        "#Melakukan prediksi hasil akurasi \n",
        "from sklearn import metrics\n",
        "y_pred = modelnb.predict(x_test)\n",
        "print(\"Hasil Akurasi : \", metrics.accuracy_score(y_test,y_pred))"
      ],
      "metadata": {
        "colab": {
          "base_uri": "https://localhost:8080/"
        },
        "id": "vtyjDCE5RfT3",
        "outputId": "33fc9eaa-d861-404e-9c79-1ed213098f58"
      },
      "execution_count": null,
      "outputs": [
        {
          "output_type": "stream",
          "name": "stdout",
          "text": [
            "Hasil Akurasi :  0.7857142857142857\n"
          ]
        }
      ]
    }
  ]
}